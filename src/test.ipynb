{
 "cells": [
  {
   "cell_type": "code",
   "execution_count": 7,
   "metadata": {},
   "outputs": [],
   "source": [
    "def initializer(values):\n",
    "    binaries = [bin(int(v, 16))[2:] for v in values]\n",
    "    words = []\n",
    "    for binary in binaries:\n",
    "        word = []\n",
    "        for b in binary:\n",
    "            word.append(int(b))\n",
    "        words.append(fillZeros(word, 32, 'BE'))\n",
    "    return words\n",
    "    \n",
    "def fillZeros(bits, length=8, endian='LE'):\n",
    "    l = len(bits)\n",
    "    if endian == 'LE':\n",
    "        for i in range(l, length):\n",
    "            bits.append(0)\n",
    "    else: \n",
    "        while l < length:\n",
    "            bits.insert(0, 0)\n",
    "            l = len(bits)\n",
    "    return bits\n",
    "h_hex = ['0x6a09e667']"
   ]
  },
  {
   "cell_type": "code",
   "execution_count": 8,
   "metadata": {},
   "outputs": [
    {
     "data": {
      "text/plain": [
       "[[0,\n",
       "  1,\n",
       "  1,\n",
       "  0,\n",
       "  1,\n",
       "  0,\n",
       "  1,\n",
       "  0,\n",
       "  0,\n",
       "  0,\n",
       "  0,\n",
       "  0,\n",
       "  1,\n",
       "  0,\n",
       "  0,\n",
       "  1,\n",
       "  1,\n",
       "  1,\n",
       "  1,\n",
       "  0,\n",
       "  0,\n",
       "  1,\n",
       "  1,\n",
       "  0,\n",
       "  0,\n",
       "  1,\n",
       "  1,\n",
       "  0,\n",
       "  0,\n",
       "  1,\n",
       "  1,\n",
       "  1]]"
      ]
     },
     "execution_count": 8,
     "metadata": {},
     "output_type": "execute_result"
    }
   ],
   "source": [
    "text -> bin "
   ]
  },
  {
   "cell_type": "code",
   "execution_count": 13,
   "metadata": {},
   "outputs": [
    {
     "data": {
      "text/plain": [
       "97"
      ]
     },
     "execution_count": 13,
     "metadata": {},
     "output_type": "execute_result"
    }
   ],
   "source": [
    "ord(\"a\")"
   ]
  },
  {
   "cell_type": "code",
   "execution_count": 14,
   "metadata": {},
   "outputs": [],
   "source": [
    "def translate(message): #convert message to binary\n",
    "    #string characters to unicode values\n",
    "    charcodes = [ord(c) for c in message]\n",
    "    #unicode values to 8-bit strings (removed binary indicator)\n",
    "    bytes = []\n",
    "    for char in charcodes:\n",
    "        bytes.append(bin(char)[2:].zfill(8))\n",
    "    #8-bit strings to list of bits as integers\n",
    "    bits = []\n",
    "    for byte in bytes:\n",
    "        for bit in byte:\n",
    "            bits.append(int(bit))\n",
    "    return bits"
   ]
  },
  {
   "cell_type": "code",
   "execution_count": 18,
   "metadata": {},
   "outputs": [
    {
     "data": {
      "text/plain": [
       "[0, 1, 1, 0, 0, 0, 0, 1, 0, 1, 1, 0, 0, 0, 1, 0]"
      ]
     },
     "execution_count": 18,
     "metadata": {},
     "output_type": "execute_result"
    }
   ],
   "source": [
    "translate(\"ab\")"
   ]
  },
  {
   "cell_type": "code",
   "execution_count": 19,
   "metadata": {},
   "outputs": [],
   "source": [
    "def b2Tob16(value):\n",
    "      #takes list of 32 bits\n",
    "  #convert to string\n",
    "  value = ''.join([str(x) for x in value])\n",
    "  #creat 4 bit chunks, and add bin-indicator\n",
    "  binaries = []\n",
    "  for d in range(0, len(value), 4):\n",
    "    binaries.append('0b' + value[d:d+4])\n",
    "  #transform to hexadecimal and remove hex-indicator\n",
    "  hexes = ''\n",
    "  for b in binaries:\n",
    "    hexes += hex(int(b ,2))[2:]\n",
    "  return hexes"
   ]
  },
  {
   "cell_type": "code",
   "execution_count": 23,
   "metadata": {},
   "outputs": [
    {
     "name": "stdout",
     "output_type": "stream",
     "text": [
      "584f4a3a91\n"
     ]
    }
   ],
   "source": [
    "print(b2Tob16([0,1, 0, 1, 1, 0, 0, 0, 0, 1, 0, 0, 1, 1, 1, 1,0,1,0,0,1,0,1,0,0,0,1,1,1,0,1,0,1,0,0,1,0,1]))\n"
   ]
  },
  {
   "cell_type": "code",
   "execution_count": null,
   "metadata": {},
   "outputs": [],
   "source": []
  }
 ],
 "metadata": {
  "interpreter": {
   "hash": "aee8b7b246df8f9039afb4144a1f6fd8d2ca17a180786b69acc140d282b71a49"
  },
  "kernelspec": {
   "display_name": "Python 3.10.0 64-bit",
   "language": "python",
   "name": "python3"
  },
  "language_info": {
   "codemirror_mode": {
    "name": "ipython",
    "version": 3
   },
   "file_extension": ".py",
   "mimetype": "text/x-python",
   "name": "python",
   "nbconvert_exporter": "python",
   "pygments_lexer": "ipython3",
   "version": "3.10.0"
  },
  "orig_nbformat": 4
 },
 "nbformat": 4,
 "nbformat_minor": 2
}
