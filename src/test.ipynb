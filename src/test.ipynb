{
 "cells": [
  {
   "cell_type": "code",
   "execution_count": 7,
   "metadata": {},
   "outputs": [],
   "source": [
    "def initializer(values):\n",
    "    binaries = [bin(int(v, 16))[2:] for v in values]\n",
    "    words = []\n",
    "    for binary in binaries:\n",
    "        word = []\n",
    "        for b in binary:\n",
    "            word.append(int(b))\n",
    "        words.append(fillZeros(word, 32, 'BE'))\n",
    "    return words\n",
    "    \n",
    "def fillZeros(bits, length=8, endian='LE'):\n",
    "    l = len(bits)\n",
    "    if endian == 'LE':\n",
    "        for i in range(l, length):\n",
    "            bits.append(0)\n",
    "    else: \n",
    "        while l < length:\n",
    "            bits.insert(0, 0)\n",
    "            l = len(bits)\n",
    "    return bits\n",
    "h_hex = ['0x6a09e667']"
   ]
  },
  {
   "cell_type": "code",
   "execution_count": 13,
   "metadata": {},
   "outputs": [
    {
     "data": {
      "text/plain": [
       "97"
      ]
     },
     "execution_count": 13,
     "metadata": {},
     "output_type": "execute_result"
    }
   ],
   "source": [
    "ord(\"a\")"
   ]
  },
  {
   "cell_type": "code",
   "execution_count": 14,
   "metadata": {},
   "outputs": [],
   "source": [
    "def translate(message): #convert message to binary\n",
    "    #string characters to unicode values\n",
    "    charcodes = [ord(c) for c in message]\n",
    "    #unicode values to 8-bit strings (removed binary indicator)\n",
    "    bytes = []\n",
    "    for char in charcodes:\n",
    "        bytes.append(bin(char)[2:].zfill(8))\n",
    "    #8-bit strings to list of bits as integers\n",
    "    bits = []\n",
    "    for byte in bytes:\n",
    "        for bit in byte:\n",
    "            bits.append(int(bit))\n",
    "    return bits"
   ]
  },
  {
   "cell_type": "code",
   "execution_count": 18,
   "metadata": {},
   "outputs": [
    {
     "data": {
      "text/plain": [
       "[0, 1, 1, 0, 0, 0, 0, 1, 0, 1, 1, 0, 0, 0, 1, 0]"
      ]
     },
     "execution_count": 18,
     "metadata": {},
     "output_type": "execute_result"
    }
   ],
   "source": [
    "translate(\"ab\")"
   ]
  },
  {
   "cell_type": "code",
   "execution_count": 30,
   "metadata": {},
   "outputs": [],
   "source": [
    "def b2Tob16(value):\n",
    "      #takes list of 32 bits\n",
    "  #convert to string\n",
    "  value = ''.join([str(x) for x in value])\n",
    "  #creat 4 bit chunks, and add bin-indicator\n",
    "  binaries = []\n",
    "  for d in range(0, len(value), 4):\n",
    "    binaries.append('0b' + value[d:d+4])\n",
    "  #transform to hexadecimal and remove hex-indicator\n",
    "  hexes = ''\n",
    "  for b in binaries:\n",
    "    hexes += hex(int(b ,2))[2:]\n",
    "  return hexes"
   ]
  },
  {
   "cell_type": "code",
   "execution_count": 32,
   "metadata": {},
   "outputs": [
    {
     "name": "stdout",
     "output_type": "stream",
     "text": [
      "584f4a3a91\n"
     ]
    }
   ],
   "source": [
    "print(b2Tob16([0,1, 0, 1, 1, 0, 0, 0, 0, 1, 0, 0, 1, 1, 1, 1,0,1,0,0,1,0,1,0,0,0,1,1,1,0,1,0,1,0,0,1,0,1]))\n"
   ]
  },
  {
   "cell_type": "code",
   "execution_count": 43,
   "metadata": {},
   "outputs": [],
   "source": [
    "para = [0,1, 0, 1, 1, 0, 0, 0, 0, 1, 0, 0, 1, 1, 1,0,0,1,0,1]"
   ]
  },
  {
   "cell_type": "code",
   "execution_count": 44,
   "metadata": {},
   "outputs": [],
   "source": [
    "def binToHexa(k):\n",
    "    value = ''.join([str(x) for x in k])\n",
    "    # convert binary to int\n",
    "    num = int(value, 2)\n",
    "      \n",
    "    # convert int to hexadecimal\n",
    "    hex_num = format(num, 'x')\n",
    "    return(hex_num)"
   ]
  },
  {
   "cell_type": "code",
   "execution_count": 45,
   "metadata": {},
   "outputs": [
    {
     "data": {
      "text/plain": [
       "'584e5'"
      ]
     },
     "execution_count": 45,
     "metadata": {},
     "output_type": "execute_result"
    }
   ],
   "source": [
    "binToHexa(para)"
   ]
  },
  {
   "cell_type": "code",
   "execution_count": 46,
   "metadata": {},
   "outputs": [],
   "source": [
    "value = ''.join([str(x) for x in para])\n"
   ]
  },
  {
   "cell_type": "code",
   "execution_count": 47,
   "metadata": {},
   "outputs": [],
   "source": [
    "def b2Tob16(value):\n",
    "      #takes list of 32 bits\n",
    "  #convert to string\n",
    "  value = ''.join([str(x) for x in value])\n",
    "  #creat 4 bit chunks, and add bin-indicator\n",
    "  binaries = []\n",
    "  for d in range(0, len(value), 4):\n",
    "    binaries.append('0b' + value[d:d+4])\n",
    "  #transform to hexadecimal and remove hex-indicator\n",
    "  hexes = ''\n",
    "  for b in binaries:\n",
    "    hexes += hex(int(b ,2))[2:]\n",
    "  return hexes"
   ]
  },
  {
   "cell_type": "code",
   "execution_count": 48,
   "metadata": {},
   "outputs": [
    {
     "data": {
      "text/plain": [
       "20"
      ]
     },
     "execution_count": 48,
     "metadata": {},
     "output_type": "execute_result"
    }
   ],
   "source": [
    "len(value)"
   ]
  },
  {
   "cell_type": "code",
   "execution_count": 49,
   "metadata": {},
   "outputs": [
    {
     "data": {
      "text/plain": [
       "'584e5'"
      ]
     },
     "execution_count": 49,
     "metadata": {},
     "output_type": "execute_result"
    }
   ],
   "source": [
    "b2Tob16(para)"
   ]
  },
  {
   "cell_type": "code",
   "execution_count": 107,
   "metadata": {},
   "outputs": [],
   "source": [
    "def initializer(values):\n",
    "    binaries = [bin(int(v, 16))[2:] for v in values]\n",
    "    words = []\n",
    "    for binary in binaries:\n",
    "        word = []\n",
    "        for b in binary:\n",
    "            word.append(int(b))\n",
    "        words.append(fillZeros(word, 32, 'BE'))\n",
    "    return words\n",
    "\n",
    "def fillZeros(bits, length=8, endian='LE'):\n",
    "    l = len(bits)\n",
    "    if endian == 'LE':\n",
    "        for i in range(l, length):\n",
    "            bits.append(0)\n",
    "    else: \n",
    "        while l < length:\n",
    "            bits.insert(0, 0)\n",
    "            l = len(bits)\n",
    "    return bits\n",
    "\n",
    "h_hex = ['0x6a09e667', '0xbb67ae85', '0x3c6ef372', '0xa54ff53a', '0x510e527f', '0x9b05688c', '0x1f83d9ab', '0x5be0cd19']"
   ]
  },
  {
   "cell_type": "code",
   "execution_count": 124,
   "metadata": {},
   "outputs": [
    {
     "data": {
      "text/plain": [
       "100992"
      ]
     },
     "execution_count": 124,
     "metadata": {},
     "output_type": "execute_result"
    }
   ],
   "source": [
    "101010 & 101000"
   ]
  },
  {
   "cell_type": "code",
   "execution_count": 163,
   "metadata": {},
   "outputs": [],
   "source": [
    "def isTrue1(x): return x == 1\n",
    "\n",
    "def if_1(i, y, z): return y if isTrue1(i) else z\n",
    "\n",
    "def and_1(i, j): return if_1(i, j, 0)\n",
    "def AND1(i, j): return [and_1(ia, ja) for ia, ja in zip(i,j)] \n",
    "\n",
    "def not_1(i): return if_1(i, 0, 1)\n",
    "def NOT1(i): return [not_1(x) for x in i]\n",
    "\n",
    "def xor1(i, j): return if_1(i, not_1(j), j)\n",
    "def XOR1(i, j): return [xor1(ia, ja) for ia, ja in zip(i, j)]\n",
    "\n",
    "def sigmaa(i, j, l): return xor1(i, xor1(j, l))\n",
    "def XORXOR1(i, j, l): return [xorxor1(ia, ja, la) for ia, ja, la, in zip(i, j, l)]\n",
    "\n",
    "def maj(i,j,k): return max([i,j,], key=[i,j,k].count)\n",
    "\n",
    "def rotr(x, n): return x[-n:] + x[:-n]\n",
    "\n",
    "def shr(x, n): return n * [0] + x[:-n]"
   ]
  },
  {
   "cell_type": "code",
   "execution_count": 164,
   "metadata": {},
   "outputs": [],
   "source": [
    "def add(i, j):\n",
    "    length = len(i)\n",
    "    sums = list(range(length))\n",
    "    c = 0\n",
    "    for x in range(length-1,-1,-1):\n",
    "        sums[x] = sigmaa(i[x], j[x], c)\n",
    "        c = maj(i[x], j[x], c)\n",
    "    return sums"
   ]
  },
  {
   "cell_type": "code",
   "execution_count": 168,
   "metadata": {},
   "outputs": [
    {
     "ename": "TypeError",
     "evalue": "object of type 'int' has no len()",
     "output_type": "error",
     "traceback": [
      "\u001b[0;31m---------------------------------------------------------------------------\u001b[0m",
      "\u001b[0;31mTypeError\u001b[0m                                 Traceback (most recent call last)",
      "\u001b[1;32m/Users/nguyenhuyhai/20221/Information security/SHA256_blockchain/src/test.ipynb Cell 18'\u001b[0m in \u001b[0;36m<cell line: 1>\u001b[0;34m()\u001b[0m\n\u001b[0;32m----> <a href='vscode-notebook-cell:/Users/nguyenhuyhai/20221/Information%20security/SHA256_blockchain/src/test.ipynb#ch0000030?line=0'>1</a>\u001b[0m add(i[\u001b[39m1\u001b[39;49m], j)\n",
      "\u001b[1;32m/Users/nguyenhuyhai/20221/Information security/SHA256_blockchain/src/test.ipynb Cell 17'\u001b[0m in \u001b[0;36madd\u001b[0;34m(i, j)\u001b[0m\n\u001b[1;32m      <a href='vscode-notebook-cell:/Users/nguyenhuyhai/20221/Information%20security/SHA256_blockchain/src/test.ipynb#ch0000029?line=0'>1</a>\u001b[0m \u001b[39mdef\u001b[39;00m \u001b[39madd\u001b[39m(i, j):\n\u001b[0;32m----> <a href='vscode-notebook-cell:/Users/nguyenhuyhai/20221/Information%20security/SHA256_blockchain/src/test.ipynb#ch0000029?line=1'>2</a>\u001b[0m     length \u001b[39m=\u001b[39m \u001b[39mlen\u001b[39;49m(i)\n\u001b[1;32m      <a href='vscode-notebook-cell:/Users/nguyenhuyhai/20221/Information%20security/SHA256_blockchain/src/test.ipynb#ch0000029?line=2'>3</a>\u001b[0m     sums \u001b[39m=\u001b[39m \u001b[39mlist\u001b[39m(\u001b[39mrange\u001b[39m(length))\n\u001b[1;32m      <a href='vscode-notebook-cell:/Users/nguyenhuyhai/20221/Information%20security/SHA256_blockchain/src/test.ipynb#ch0000029?line=3'>4</a>\u001b[0m     c \u001b[39m=\u001b[39m \u001b[39m0\u001b[39m\n",
      "\u001b[0;31mTypeError\u001b[0m: object of type 'int' has no len()"
     ]
    }
   ],
   "source": [
    "add(i[1], j)"
   ]
  },
  {
   "cell_type": "markdown",
   "metadata": {},
   "source": []
  },
  {
   "cell_type": "code",
   "execution_count": 166,
   "metadata": {},
   "outputs": [
    {
     "data": {
      "text/plain": [
       "[1, 1, 0, 1]"
      ]
     },
     "execution_count": 166,
     "metadata": {},
     "output_type": "execute_result"
    }
   ],
   "source": [
    "i"
   ]
  },
  {
   "cell_type": "code",
   "execution_count": 7,
   "metadata": {},
   "outputs": [],
   "source": [
    "from utils.functional import *\n",
    "from utils.constants import *\n",
    "from utils.process import *\n",
    "from demo import *"
   ]
  },
  {
   "cell_type": "code",
   "execution_count": 5,
   "metadata": {},
   "outputs": [],
   "source": [
    "l = initializer(h_hex)\n"
   ]
  },
  {
   "cell_type": "code",
   "execution_count": 9,
   "metadata": {},
   "outputs": [],
   "source": [
    "list = []\n",
    "for i in l:\n",
    "    k = list2str(i) \n",
    "    list.append(k)"
   ]
  },
  {
   "cell_type": "code",
   "execution_count": 10,
   "metadata": {},
   "outputs": [
    {
     "data": {
      "text/plain": [
       "['01101010000010011110011001100111',\n",
       " '10111011011001111010111010000101',\n",
       " '00111100011011101111001101110010',\n",
       " '10100101010011111111010100111010',\n",
       " '01010001000011100101001001111111',\n",
       " '10011011000001010110100010001100',\n",
       " '00011111100000111101100110101011',\n",
       " '01011011111000001100110100011001']"
      ]
     },
     "execution_count": 10,
     "metadata": {},
     "output_type": "execute_result"
    }
   ],
   "source": [
    "list"
   ]
  },
  {
   "cell_type": "code",
   "execution_count": 40,
   "metadata": {},
   "outputs": [],
   "source": [
    "list = [2,3,5,7,11,13,17,19]\n",
    "sqrt_list = []\n",
    "dec_list = []\n",
    "for i in list:\n",
    "    a = round(math.sqrt(i), 10)\n",
    "    b = round(a - int(a), 10)\n",
    "    sqrt_list.append(a)\n",
    "    dec_list.append(b)\n",
    "for j in dec_list:\n",
    "    sqrt_list.append(j)\n",
    "for k in dec_list:\n",
    "    sqrt_list.append(k)"
   ]
  },
  {
   "cell_type": "code",
   "execution_count": 41,
   "metadata": {},
   "outputs": [
    {
     "data": {
      "text/plain": [
       "[1.4142135624,\n",
       " 1.7320508076,\n",
       " 2.2360679775,\n",
       " 2.6457513111,\n",
       " 3.3166247904,\n",
       " 3.6055512755,\n",
       " 4.1231056256,\n",
       " 4.3588989435,\n",
       " 0.4142135624,\n",
       " 0.7320508076,\n",
       " 0.2360679775,\n",
       " 0.6457513111,\n",
       " 0.3166247904,\n",
       " 0.6055512755,\n",
       " 0.1231056256,\n",
       " 0.3588989435,\n",
       " 0.4142135624,\n",
       " 0.7320508076,\n",
       " 0.2360679775,\n",
       " 0.6457513111,\n",
       " 0.3166247904,\n",
       " 0.6055512755,\n",
       " 0.1231056256,\n",
       " 0.3588989435]"
      ]
     },
     "execution_count": 41,
     "metadata": {},
     "output_type": "execute_result"
    }
   ],
   "source": [
    "sqrt_list"
   ]
  },
  {
   "cell_type": "code",
   "execution_count": 34,
   "metadata": {},
   "outputs": [],
   "source": [
    "sqrt_list.append(i for i in dec_list)"
   ]
  },
  {
   "cell_type": "code",
   "execution_count": 37,
   "metadata": {},
   "outputs": [
    {
     "name": "stdout",
     "output_type": "stream",
     "text": [
      "0.4142135624\n",
      "0.7320508076\n",
      "0.2360679775\n",
      "0.6457513111\n",
      "0.3166247904\n",
      "0.6055512755\n",
      "0.1231056256\n",
      "0.3588989435\n"
     ]
    }
   ],
   "source": [
    "for i in dec_list:\n",
    "    print(i)"
   ]
  },
  {
   "cell_type": "code",
   "execution_count": 44,
   "metadata": {},
   "outputs": [
    {
     "data": {
      "text/plain": [
       "[4, 5, 6]"
      ]
     },
     "execution_count": 44,
     "metadata": {},
     "output_type": "execute_result"
    }
   ],
   "source": [
    "list =[1,2,3,4,5,6]\n",
    "list[-3:]"
   ]
  },
  {
   "cell_type": "code",
   "execution_count": 45,
   "metadata": {},
   "outputs": [],
   "source": [
    "a, b, c, d, e, f = list"
   ]
  },
  {
   "cell_type": "code",
   "execution_count": 46,
   "metadata": {},
   "outputs": [
    {
     "data": {
      "text/plain": [
       "1"
      ]
     },
     "execution_count": 46,
     "metadata": {},
     "output_type": "execute_result"
    }
   ],
   "source": [
    "a"
   ]
  },
  {
   "cell_type": "code",
   "execution_count": 48,
   "metadata": {},
   "outputs": [
    {
     "data": {
      "text/plain": [
       "2"
      ]
     },
     "execution_count": 48,
     "metadata": {},
     "output_type": "execute_result"
    }
   ],
   "source": [
    "b"
   ]
  },
  {
   "cell_type": "code",
   "execution_count": 49,
   "metadata": {},
   "outputs": [
    {
     "data": {
      "text/plain": [
       "3"
      ]
     },
     "execution_count": 49,
     "metadata": {},
     "output_type": "execute_result"
    }
   ],
   "source": [
    "c"
   ]
  },
  {
   "cell_type": "code",
   "execution_count": 51,
   "metadata": {},
   "outputs": [
    {
     "data": {
      "text/plain": [
       "4"
      ]
     },
     "execution_count": 51,
     "metadata": {},
     "output_type": "execute_result"
    }
   ],
   "source": [
    "d"
   ]
  },
  {
   "cell_type": "code",
   "execution_count": 53,
   "metadata": {},
   "outputs": [
    {
     "data": {
      "text/plain": [
       "5"
      ]
     },
     "execution_count": 53,
     "metadata": {},
     "output_type": "execute_result"
    }
   ],
   "source": [
    "e"
   ]
  },
  {
   "cell_type": "code",
   "execution_count": 55,
   "metadata": {},
   "outputs": [
    {
     "data": {
      "text/plain": [
       "6"
      ]
     },
     "execution_count": 55,
     "metadata": {},
     "output_type": "execute_result"
    }
   ],
   "source": [
    "f"
   ]
  },
  {
   "cell_type": "code",
   "execution_count": 67,
   "metadata": {},
   "outputs": [],
   "source": [
    "h = [1,2,3,4]\n",
    "a = h.copy()\n",
    "h[0] =0"
   ]
  },
  {
   "cell_type": "code",
   "execution_count": 68,
   "metadata": {},
   "outputs": [
    {
     "data": {
      "text/plain": [
       "[1, 2, 3, 4]"
      ]
     },
     "execution_count": 68,
     "metadata": {},
     "output_type": "execute_result"
    }
   ],
   "source": [
    "a"
   ]
  },
  {
   "cell_type": "code",
   "execution_count": 63,
   "metadata": {},
   "outputs": [],
   "source": [
    "a = [[1,1,2],[2,4,6]]\n",
    "b = a.copy()"
   ]
  },
  {
   "cell_type": "code",
   "execution_count": 65,
   "metadata": {},
   "outputs": [],
   "source": [
    "b[0][0] = 0"
   ]
  },
  {
   "cell_type": "code",
   "execution_count": 66,
   "metadata": {},
   "outputs": [
    {
     "data": {
      "text/plain": [
       "[[0, 1, 2], [2, 4, 6]]"
      ]
     },
     "execution_count": 66,
     "metadata": {},
     "output_type": "execute_result"
    }
   ],
   "source": [
    "a"
   ]
  },
  {
   "cell_type": "code",
   "execution_count": 1,
   "metadata": {},
   "outputs": [],
   "source": [
    "def binToHexa(k):\n",
    "    value = ''.join([str(x) for x in k])\n",
    "    # convert binary to int\n",
    "    num = int(value, 2)\n",
    "    # convert int to hexadecimal\n",
    "    hex_num = format(num, 'x')\n",
    "    return(hex_num)"
   ]
  },
  {
   "cell_type": "code",
   "execution_count": 4,
   "metadata": {},
   "outputs": [],
   "source": [
    "a = [1,0,1,0,0,1]\n",
    "c = '100010'\n",
    "b = binToHexa(c)"
   ]
  },
  {
   "cell_type": "code",
   "execution_count": 5,
   "metadata": {},
   "outputs": [
    {
     "data": {
      "text/plain": [
       "'22'"
      ]
     },
     "execution_count": 5,
     "metadata": {},
     "output_type": "execute_result"
    }
   ],
   "source": [
    "b"
   ]
  },
  {
   "cell_type": "code",
   "execution_count": null,
   "metadata": {},
   "outputs": [],
   "source": []
  }
 ],
 "metadata": {
  "interpreter": {
   "hash": "aee8b7b246df8f9039afb4144a1f6fd8d2ca17a180786b69acc140d282b71a49"
  },
  "kernelspec": {
   "display_name": "Python 3.10.0 64-bit",
   "language": "python",
   "name": "python3"
  },
  "language_info": {
   "codemirror_mode": {
    "name": "ipython",
    "version": 3
   },
   "file_extension": ".py",
   "mimetype": "text/x-python",
   "name": "python",
   "nbconvert_exporter": "python",
   "pygments_lexer": "ipython3",
   "version": "3.10.4"
  },
  "orig_nbformat": 4
 },
 "nbformat": 4,
 "nbformat_minor": 2
}
