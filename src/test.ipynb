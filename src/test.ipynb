{
 "cells": [
  {
   "cell_type": "code",
   "execution_count": 7,
   "metadata": {},
   "outputs": [],
   "source": [
    "def initializer(values):\n",
    "    binaries = [bin(int(v, 16))[2:] for v in values]\n",
    "    words = []\n",
    "    for binary in binaries:\n",
    "        word = []\n",
    "        for b in binary:\n",
    "            word.append(int(b))\n",
    "        words.append(fillZeros(word, 32, 'BE'))\n",
    "    return words\n",
    "    \n",
    "def fillZeros(bits, length=8, endian='LE'):\n",
    "    l = len(bits)\n",
    "    if endian == 'LE':\n",
    "        for i in range(l, length):\n",
    "            bits.append(0)\n",
    "    else: \n",
    "        while l < length:\n",
    "            bits.insert(0, 0)\n",
    "            l = len(bits)\n",
    "    return bits\n",
    "h_hex = ['0x6a09e667']"
   ]
  },
  {
   "cell_type": "code",
   "execution_count": 13,
   "metadata": {},
   "outputs": [
    {
     "data": {
      "text/plain": [
       "97"
      ]
     },
     "execution_count": 13,
     "metadata": {},
     "output_type": "execute_result"
    }
   ],
   "source": [
    "ord(\"a\")"
   ]
  },
  {
   "cell_type": "code",
   "execution_count": 14,
   "metadata": {},
   "outputs": [],
   "source": [
    "def translate(message): #convert message to binary\n",
    "    #string characters to unicode values\n",
    "    charcodes = [ord(c) for c in message]\n",
    "    #unicode values to 8-bit strings (removed binary indicator)\n",
    "    bytes = []\n",
    "    for char in charcodes:\n",
    "        bytes.append(bin(char)[2:].zfill(8))\n",
    "    #8-bit strings to list of bits as integers\n",
    "    bits = []\n",
    "    for byte in bytes:\n",
    "        for bit in byte:\n",
    "            bits.append(int(bit))\n",
    "    return bits"
   ]
  },
  {
   "cell_type": "code",
   "execution_count": 18,
   "metadata": {},
   "outputs": [
    {
     "data": {
      "text/plain": [
       "[0, 1, 1, 0, 0, 0, 0, 1, 0, 1, 1, 0, 0, 0, 1, 0]"
      ]
     },
     "execution_count": 18,
     "metadata": {},
     "output_type": "execute_result"
    }
   ],
   "source": [
    "translate(\"ab\")"
   ]
  },
  {
   "cell_type": "code",
   "execution_count": 30,
   "metadata": {},
   "outputs": [],
   "source": [
    "def b2Tob16(value):\n",
    "      #takes list of 32 bits\n",
    "  #convert to string\n",
    "  value = ''.join([str(x) for x in value])\n",
    "  #creat 4 bit chunks, and add bin-indicator\n",
    "  binaries = []\n",
    "  for d in range(0, len(value), 4):\n",
    "    binaries.append('0b' + value[d:d+4])\n",
    "  #transform to hexadecimal and remove hex-indicator\n",
    "  hexes = ''\n",
    "  for b in binaries:\n",
    "    hexes += hex(int(b ,2))[2:]\n",
    "  return hexes"
   ]
  },
  {
   "cell_type": "code",
   "execution_count": 32,
   "metadata": {},
   "outputs": [
    {
     "name": "stdout",
     "output_type": "stream",
     "text": [
      "584f4a3a91\n"
     ]
    }
   ],
   "source": [
    "print(b2Tob16([0,1, 0, 1, 1, 0, 0, 0, 0, 1, 0, 0, 1, 1, 1, 1,0,1,0,0,1,0,1,0,0,0,1,1,1,0,1,0,1,0,0,1,0,1]))\n"
   ]
  },
  {
   "cell_type": "code",
   "execution_count": 43,
   "metadata": {},
   "outputs": [],
   "source": [
    "para = [0,1, 0, 1, 1, 0, 0, 0, 0, 1, 0, 0, 1, 1, 1,0,0,1,0,1]"
   ]
  },
  {
   "cell_type": "code",
   "execution_count": 44,
   "metadata": {},
   "outputs": [],
   "source": [
    "def binToHexa(k):\n",
    "    value = ''.join([str(x) for x in k])\n",
    "    # convert binary to int\n",
    "    num = int(value, 2)\n",
    "      \n",
    "    # convert int to hexadecimal\n",
    "    hex_num = format(num, 'x')\n",
    "    return(hex_num)"
   ]
  },
  {
   "cell_type": "code",
   "execution_count": 45,
   "metadata": {},
   "outputs": [
    {
     "data": {
      "text/plain": [
       "'584e5'"
      ]
     },
     "execution_count": 45,
     "metadata": {},
     "output_type": "execute_result"
    }
   ],
   "source": [
    "binToHexa(para)"
   ]
  },
  {
   "cell_type": "code",
   "execution_count": 46,
   "metadata": {},
   "outputs": [],
   "source": [
    "value = ''.join([str(x) for x in para])\n"
   ]
  },
  {
   "cell_type": "code",
   "execution_count": 47,
   "metadata": {},
   "outputs": [],
   "source": [
    "def b2Tob16(value):\n",
    "      #takes list of 32 bits\n",
    "  #convert to string\n",
    "  value = ''.join([str(x) for x in value])\n",
    "  #creat 4 bit chunks, and add bin-indicator\n",
    "  binaries = []\n",
    "  for d in range(0, len(value), 4):\n",
    "    binaries.append('0b' + value[d:d+4])\n",
    "  #transform to hexadecimal and remove hex-indicator\n",
    "  hexes = ''\n",
    "  for b in binaries:\n",
    "    hexes += hex(int(b ,2))[2:]\n",
    "  return hexes"
   ]
  },
  {
   "cell_type": "code",
   "execution_count": 48,
   "metadata": {},
   "outputs": [
    {
     "data": {
      "text/plain": [
       "20"
      ]
     },
     "execution_count": 48,
     "metadata": {},
     "output_type": "execute_result"
    }
   ],
   "source": [
    "len(value)"
   ]
  },
  {
   "cell_type": "code",
   "execution_count": 49,
   "metadata": {},
   "outputs": [
    {
     "data": {
      "text/plain": [
       "'584e5'"
      ]
     },
     "execution_count": 49,
     "metadata": {},
     "output_type": "execute_result"
    }
   ],
   "source": [
    "b2Tob16(para)"
   ]
  },
  {
   "cell_type": "code",
   "execution_count": 107,
   "metadata": {},
   "outputs": [],
   "source": [
    "def initializer(values):\n",
    "    binaries = [bin(int(v, 16))[2:] for v in values]\n",
    "    words = []\n",
    "    for binary in binaries:\n",
    "        word = []\n",
    "        for b in binary:\n",
    "            word.append(int(b))\n",
    "        words.append(fillZeros(word, 32, 'BE'))\n",
    "    return words\n",
    "\n",
    "def fillZeros(bits, length=8, endian='LE'):\n",
    "    l = len(bits)\n",
    "    if endian == 'LE':\n",
    "        for i in range(l, length):\n",
    "            bits.append(0)\n",
    "    else: \n",
    "        while l < length:\n",
    "            bits.insert(0, 0)\n",
    "            l = len(bits)\n",
    "    return bits\n",
    "\n",
    "h_hex = ['0x6a09e667', '0xbb67ae85', '0x3c6ef372', '0xa54ff53a', '0x510e527f', '0x9b05688c', '0x1f83d9ab', '0x5be0cd19']"
   ]
  },
  {
   "cell_type": "code",
   "execution_count": 124,
   "metadata": {},
   "outputs": [
    {
     "data": {
      "text/plain": [
       "100992"
      ]
     },
     "execution_count": 124,
     "metadata": {},
     "output_type": "execute_result"
    }
   ],
   "source": [
    "101010 & 101000"
   ]
  },
  {
   "cell_type": "code",
   "execution_count": 125,
   "metadata": {},
   "outputs": [
    {
     "data": {
      "text/plain": [
       "0"
      ]
     },
     "execution_count": 125,
     "metadata": {},
     "output_type": "execute_result"
    }
   ],
   "source": [
    "1 & 0"
   ]
  },
  {
   "cell_type": "code",
   "execution_count": null,
   "metadata": {},
   "outputs": [],
   "source": [
    "def AND(i, j):\n",
    "    "
   ]
  }
 ],
 "metadata": {
  "interpreter": {
   "hash": "aee8b7b246df8f9039afb4144a1f6fd8d2ca17a180786b69acc140d282b71a49"
  },
  "kernelspec": {
   "display_name": "Python 3.10.0 64-bit",
   "language": "python",
   "name": "python3"
  },
  "language_info": {
   "codemirror_mode": {
    "name": "ipython",
    "version": 3
   },
   "file_extension": ".py",
   "mimetype": "text/x-python",
   "name": "python",
   "nbconvert_exporter": "python",
   "pygments_lexer": "ipython3",
   "version": "3.10.4"
  },
  "orig_nbformat": 4
 },
 "nbformat": 4,
 "nbformat_minor": 2
}
