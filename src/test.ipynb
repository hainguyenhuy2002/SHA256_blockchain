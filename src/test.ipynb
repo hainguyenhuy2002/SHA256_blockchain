{
 "cells": [
  {
   "cell_type": "code",
   "execution_count": 7,
   "metadata": {},
   "outputs": [],
   "source": [
    "def initializer(values):\n",
    "    binaries = [bin(int(v, 16))[2:] for v in values]\n",
    "    words = []\n",
    "    for binary in binaries:\n",
    "        word = []\n",
    "        for b in binary:\n",
    "            word.append(int(b))\n",
    "        words.append(fillZeros(word, 32, 'BE'))\n",
    "    return words\n",
    "    \n",
    "def fillZeros(bits, length=8, endian='LE'):\n",
    "    l = len(bits)\n",
    "    if endian == 'LE':\n",
    "        for i in range(l, length):\n",
    "            bits.append(0)\n",
    "    else: \n",
    "        while l < length:\n",
    "            bits.insert(0, 0)\n",
    "            l = len(bits)\n",
    "    return bits\n",
    "h_hex = ['0x6a09e667']"
   ]
  },
  {
   "cell_type": "code",
   "execution_count": 13,
   "metadata": {},
   "outputs": [
    {
     "data": {
      "text/plain": [
       "97"
      ]
     },
     "execution_count": 13,
     "metadata": {},
     "output_type": "execute_result"
    }
   ],
   "source": [
    "ord(\"a\")"
   ]
  },
  {
   "cell_type": "code",
   "execution_count": 14,
   "metadata": {},
   "outputs": [],
   "source": [
    "def translate(message): #convert message to binary\n",
    "    #string characters to unicode values\n",
    "    charcodes = [ord(c) for c in message]\n",
    "    #unicode values to 8-bit strings (removed binary indicator)\n",
    "    bytes = []\n",
    "    for char in charcodes:\n",
    "        bytes.append(bin(char)[2:].zfill(8))\n",
    "    #8-bit strings to list of bits as integers\n",
    "    bits = []\n",
    "    for byte in bytes:\n",
    "        for bit in byte:\n",
    "            bits.append(int(bit))\n",
    "    return bits"
   ]
  },
  {
   "cell_type": "code",
   "execution_count": 18,
   "metadata": {},
   "outputs": [
    {
     "data": {
      "text/plain": [
       "[0, 1, 1, 0, 0, 0, 0, 1, 0, 1, 1, 0, 0, 0, 1, 0]"
      ]
     },
     "execution_count": 18,
     "metadata": {},
     "output_type": "execute_result"
    }
   ],
   "source": [
    "translate(\"ab\")"
   ]
  },
  {
   "cell_type": "code",
   "execution_count": 30,
   "metadata": {},
   "outputs": [],
   "source": [
    "def b2Tob16(value):\n",
    "      #takes list of 32 bits\n",
    "  #convert to string\n",
    "  value = ''.join([str(x) for x in value])\n",
    "  #creat 4 bit chunks, and add bin-indicator\n",
    "  binaries = []\n",
    "  for d in range(0, len(value), 4):\n",
    "    binaries.append('0b' + value[d:d+4])\n",
    "  #transform to hexadecimal and remove hex-indicator\n",
    "  hexes = ''\n",
    "  for b in binaries:\n",
    "    hexes += hex(int(b ,2))[2:]\n",
    "  return hexes"
   ]
  },
  {
   "cell_type": "code",
   "execution_count": 32,
   "metadata": {},
   "outputs": [
    {
     "name": "stdout",
     "output_type": "stream",
     "text": [
      "584f4a3a91\n"
     ]
    }
   ],
   "source": [
    "print(b2Tob16([0,1, 0, 1, 1, 0, 0, 0, 0, 1, 0, 0, 1, 1, 1, 1,0,1,0,0,1,0,1,0,0,0,1,1,1,0,1,0,1,0,0,1,0,1]))\n"
   ]
  },
  {
   "cell_type": "code",
   "execution_count": 43,
   "metadata": {},
   "outputs": [],
   "source": [
    "para = [0,1, 0, 1, 1, 0, 0, 0, 0, 1, 0, 0, 1, 1, 1,0,0,1,0,1]"
   ]
  },
  {
   "cell_type": "code",
   "execution_count": 44,
   "metadata": {},
   "outputs": [],
   "source": [
    "def binToHexa(k):\n",
    "    value = ''.join([str(x) for x in k])\n",
    "    # convert binary to int\n",
    "    num = int(value, 2)\n",
    "      \n",
    "    # convert int to hexadecimal\n",
    "    hex_num = format(num, 'x')\n",
    "    return(hex_num)"
   ]
  },
  {
   "cell_type": "code",
   "execution_count": 45,
   "metadata": {},
   "outputs": [
    {
     "data": {
      "text/plain": [
       "'584e5'"
      ]
     },
     "execution_count": 45,
     "metadata": {},
     "output_type": "execute_result"
    }
   ],
   "source": [
    "binToHexa(para)"
   ]
  },
  {
   "cell_type": "code",
   "execution_count": 46,
   "metadata": {},
   "outputs": [],
   "source": [
    "value = ''.join([str(x) for x in para])\n"
   ]
  },
  {
   "cell_type": "code",
   "execution_count": 47,
   "metadata": {},
   "outputs": [],
   "source": [
    "def b2Tob16(value):\n",
    "      #takes list of 32 bits\n",
    "  #convert to string\n",
    "  value = ''.join([str(x) for x in value])\n",
    "  #creat 4 bit chunks, and add bin-indicator\n",
    "  binaries = []\n",
    "  for d in range(0, len(value), 4):\n",
    "    binaries.append('0b' + value[d:d+4])\n",
    "  #transform to hexadecimal and remove hex-indicator\n",
    "  hexes = ''\n",
    "  for b in binaries:\n",
    "    hexes += hex(int(b ,2))[2:]\n",
    "  return hexes"
   ]
  },
  {
   "cell_type": "code",
   "execution_count": 48,
   "metadata": {},
   "outputs": [
    {
     "data": {
      "text/plain": [
       "20"
      ]
     },
     "execution_count": 48,
     "metadata": {},
     "output_type": "execute_result"
    }
   ],
   "source": [
    "len(value)"
   ]
  },
  {
   "cell_type": "code",
   "execution_count": 49,
   "metadata": {},
   "outputs": [
    {
     "data": {
      "text/plain": [
       "'584e5'"
      ]
     },
     "execution_count": 49,
     "metadata": {},
     "output_type": "execute_result"
    }
   ],
   "source": [
    "b2Tob16(para)"
   ]
  },
  {
   "cell_type": "code",
   "execution_count": 107,
   "metadata": {},
   "outputs": [],
   "source": [
    "def initializer(values):\n",
    "    binaries = [bin(int(v, 16))[2:] for v in values]\n",
    "    words = []\n",
    "    for binary in binaries:\n",
    "        word = []\n",
    "        for b in binary:\n",
    "            word.append(int(b))\n",
    "        words.append(fillZeros(word, 32, 'BE'))\n",
    "    return words\n",
    "\n",
    "def fillZeros(bits, length=8, endian='LE'):\n",
    "    l = len(bits)\n",
    "    if endian == 'LE':\n",
    "        for i in range(l, length):\n",
    "            bits.append(0)\n",
    "    else: \n",
    "        while l < length:\n",
    "            bits.insert(0, 0)\n",
    "            l = len(bits)\n",
    "    return bits\n",
    "\n",
    "h_hex = ['0x6a09e667', '0xbb67ae85', '0x3c6ef372', '0xa54ff53a', '0x510e527f', '0x9b05688c', '0x1f83d9ab', '0x5be0cd19']"
   ]
  },
  {
   "cell_type": "code",
   "execution_count": 124,
   "metadata": {},
   "outputs": [
    {
     "data": {
      "text/plain": [
       "100992"
      ]
     },
     "execution_count": 124,
     "metadata": {},
     "output_type": "execute_result"
    }
   ],
   "source": [
    "101010 & 101000"
   ]
  },
  {
   "cell_type": "code",
   "execution_count": 163,
   "metadata": {},
   "outputs": [],
   "source": [
    "def isTrue1(x): return x == 1\n",
    "\n",
    "def if_1(i, y, z): return y if isTrue1(i) else z\n",
    "\n",
    "def and_1(i, j): return if_1(i, j, 0)\n",
    "def AND1(i, j): return [and_1(ia, ja) for ia, ja in zip(i,j)] \n",
    "\n",
    "def not_1(i): return if_1(i, 0, 1)\n",
    "def NOT1(i): return [not_1(x) for x in i]\n",
    "\n",
    "def xor1(i, j): return if_1(i, not_1(j), j)\n",
    "def XOR1(i, j): return [xor1(ia, ja) for ia, ja in zip(i, j)]\n",
    "\n",
    "def sigmaa(i, j, l): return xor1(i, xor1(j, l))\n",
    "def XORXOR1(i, j, l): return [xorxor1(ia, ja, la) for ia, ja, la, in zip(i, j, l)]\n",
    "\n",
    "def maj(i,j,k): return max([i,j,], key=[i,j,k].count)\n",
    "\n",
    "def rotr(x, n): return x[-n:] + x[:-n]\n",
    "\n",
    "def shr(x, n): return n * [0] + x[:-n]"
   ]
  },
  {
   "cell_type": "code",
   "execution_count": 164,
   "metadata": {},
   "outputs": [],
   "source": [
    "def add(i, j):\n",
    "    length = len(i)\n",
    "    sums = list(range(length))\n",
    "    c = 0\n",
    "    for x in range(length-1,-1,-1):\n",
    "        sums[x] = sigmaa(i[x], j[x], c)\n",
    "        c = maj(i[x], j[x], c)\n",
    "    return sums"
   ]
  },
  {
   "cell_type": "code",
   "execution_count": 168,
   "metadata": {},
   "outputs": [
    {
     "ename": "TypeError",
     "evalue": "object of type 'int' has no len()",
     "output_type": "error",
     "traceback": [
      "\u001b[0;31m---------------------------------------------------------------------------\u001b[0m",
      "\u001b[0;31mTypeError\u001b[0m                                 Traceback (most recent call last)",
      "\u001b[1;32m/Users/nguyenhuyhai/20221/Information security/SHA256_blockchain/src/test.ipynb Cell 18'\u001b[0m in \u001b[0;36m<cell line: 1>\u001b[0;34m()\u001b[0m\n\u001b[0;32m----> <a href='vscode-notebook-cell:/Users/nguyenhuyhai/20221/Information%20security/SHA256_blockchain/src/test.ipynb#ch0000030?line=0'>1</a>\u001b[0m add(i[\u001b[39m1\u001b[39;49m], j)\n",
      "\u001b[1;32m/Users/nguyenhuyhai/20221/Information security/SHA256_blockchain/src/test.ipynb Cell 17'\u001b[0m in \u001b[0;36madd\u001b[0;34m(i, j)\u001b[0m\n\u001b[1;32m      <a href='vscode-notebook-cell:/Users/nguyenhuyhai/20221/Information%20security/SHA256_blockchain/src/test.ipynb#ch0000029?line=0'>1</a>\u001b[0m \u001b[39mdef\u001b[39;00m \u001b[39madd\u001b[39m(i, j):\n\u001b[0;32m----> <a href='vscode-notebook-cell:/Users/nguyenhuyhai/20221/Information%20security/SHA256_blockchain/src/test.ipynb#ch0000029?line=1'>2</a>\u001b[0m     length \u001b[39m=\u001b[39m \u001b[39mlen\u001b[39;49m(i)\n\u001b[1;32m      <a href='vscode-notebook-cell:/Users/nguyenhuyhai/20221/Information%20security/SHA256_blockchain/src/test.ipynb#ch0000029?line=2'>3</a>\u001b[0m     sums \u001b[39m=\u001b[39m \u001b[39mlist\u001b[39m(\u001b[39mrange\u001b[39m(length))\n\u001b[1;32m      <a href='vscode-notebook-cell:/Users/nguyenhuyhai/20221/Information%20security/SHA256_blockchain/src/test.ipynb#ch0000029?line=3'>4</a>\u001b[0m     c \u001b[39m=\u001b[39m \u001b[39m0\u001b[39m\n",
      "\u001b[0;31mTypeError\u001b[0m: object of type 'int' has no len()"
     ]
    }
   ],
   "source": [
    "add(i[1], j)"
   ]
  },
  {
   "cell_type": "code",
   "execution_count": 166,
   "metadata": {},
   "outputs": [
    {
     "data": {
      "text/plain": [
       "[1, 1, 0, 1]"
      ]
     },
     "execution_count": 166,
     "metadata": {},
     "output_type": "execute_result"
    }
   ],
   "source": [
    "i"
   ]
  },
  {
   "cell_type": "code",
   "execution_count": 167,
   "metadata": {},
   "outputs": [
    {
     "data": {
      "text/plain": [
       "[1, 1, 0, 0]"
      ]
     },
     "execution_count": 167,
     "metadata": {},
     "output_type": "execute_result"
    }
   ],
   "source": [
    "j"
   ]
  },
  {
   "cell_type": "code",
   "execution_count": null,
   "metadata": {},
   "outputs": [],
   "source": []
  }
 ],
 "metadata": {
  "interpreter": {
   "hash": "aee8b7b246df8f9039afb4144a1f6fd8d2ca17a180786b69acc140d282b71a49"
  },
  "kernelspec": {
   "display_name": "Python 3.10.0 64-bit",
   "language": "python",
   "name": "python3"
  },
  "language_info": {
   "codemirror_mode": {
    "name": "ipython",
    "version": 3
   },
   "file_extension": ".py",
   "mimetype": "text/x-python",
   "name": "python",
   "nbconvert_exporter": "python",
   "pygments_lexer": "ipython3",
   "version": "3.10.4"
  },
  "orig_nbformat": 4
 },
 "nbformat": 4,
 "nbformat_minor": 2
}
